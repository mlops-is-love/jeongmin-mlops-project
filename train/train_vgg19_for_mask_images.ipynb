{
  "nbformat": 4,
  "nbformat_minor": 0,
  "metadata": {
    "colab": {
      "name": "train_vgg19_for_mask_images.ipynb",
      "provenance": [],
      "collapsed_sections": []
    },
    "kernelspec": {
      "name": "python3",
      "display_name": "Python 3"
    },
    "language_info": {
      "name": "python"
    },
    "accelerator": "GPU",
    "gpuClass": "standard"
  },
  "cells": [
    {
      "cell_type": "code",
      "execution_count": null,
      "metadata": {
        "colab": {
          "base_uri": "https://localhost:8080/"
        },
        "id": "EpqJXRcFMsOP",
        "outputId": "b28decd2-667e-47a4-89bf-4c194a4e283f"
      },
      "outputs": [
        {
          "output_type": "stream",
          "name": "stdout",
          "text": [
            "\u001b[K     |████████████████████████████████| 17.9 MB 4.9 MB/s \n",
            "\u001b[K     |████████████████████████████████| 132 kB 70.2 MB/s \n",
            "\u001b[K     |████████████████████████████████| 81 kB 12.0 MB/s \n",
            "\u001b[K     |████████████████████████████████| 79 kB 10.5 MB/s \n",
            "\u001b[K     |████████████████████████████████| 209 kB 66.9 MB/s \n",
            "\u001b[K     |████████████████████████████████| 146 kB 56.2 MB/s \n",
            "\u001b[K     |████████████████████████████████| 181 kB 71.8 MB/s \n",
            "\u001b[K     |████████████████████████████████| 596 kB 70.5 MB/s \n",
            "\u001b[K     |████████████████████████████████| 54 kB 3.7 MB/s \n",
            "\u001b[K     |████████████████████████████████| 63 kB 2.5 MB/s \n",
            "\u001b[K     |████████████████████████████████| 9.0 MB 48.2 MB/s \n",
            "\u001b[K     |████████████████████████████████| 79 kB 10.7 MB/s \n",
            "\u001b[K     |████████████████████████████████| 127 kB 77.5 MB/s \n",
            "\u001b[K     |████████████████████████████████| 78 kB 8.7 MB/s \n",
            "\u001b[?25h  Building wheel for databricks-cli (setup.py) ... \u001b[?25l\u001b[?25hdone\n",
            "\u001b[31mERROR: pip's dependency resolver does not currently take into account all the packages that are installed. This behaviour is the source of the following dependency conflicts.\n",
            "datascience 0.10.6 requires folium==0.2.1, but you have folium 0.8.3 which is incompatible.\u001b[0m\n"
          ]
        }
      ],
      "source": [
        "!pip install mlflow boto3 -q"
      ]
    },
    {
      "cell_type": "code",
      "source": [
        "import os\n",
        "\n",
        "os.environ[\"AWS_ACCESS_KEY_ID\"] = \"\"\n",
        "os.environ[\"AWS_SECRET_ACCESS_KEY\"] = \"\"\n",
        "os.environ[\"MLFLOW_TRACKING_URI\"] = \"http://:5000\""
      ],
      "metadata": {
        "id": "-iVDmiggM5gN"
      },
      "execution_count": null,
      "outputs": []
    },
    {
      "cell_type": "code",
      "source": [
        "import pandas as pd\n",
        "\n",
        "df = pd.read_csv(\"train-1000.csv\")"
      ],
      "metadata": {
        "id": "X49Y3VGGM8Up"
      },
      "execution_count": null,
      "outputs": []
    },
    {
      "cell_type": "code",
      "source": [
        "import boto3\n",
        "\n",
        "s3_client = boto3.client('s3')\n",
        "os.makedirs(\"/content/train_data/with_mask\", exist_ok=True)\n",
        "os.makedirs(\"/content/train_data/without_mask\", exist_ok=True)\n",
        "\n",
        "def download_files(df, bucket_name=\"jeongmin-mask-detection-train-dataset\", s3_prefix=\"mask_images\", local_prefix=\"/content/train_data\"):\n",
        "    for idx in range(len(df)):\n",
        "        class_name = df[\"class\"][idx]\n",
        "        file_name = df[\"file_name\"][idx]\n",
        "\n",
        "        s3_path = f\"{s3_prefix}/{class_name}/{file_name}\"\n",
        "        local_path = f\"{local_prefix}/{class_name}/{file_name}\"\n",
        "\n",
        "        s3_client.download_file(bucket_name, s3_path, local_path)"
      ],
      "metadata": {
        "id": "VH_BSq3yNCo2"
      },
      "execution_count": null,
      "outputs": []
    },
    {
      "cell_type": "code",
      "source": [
        "download_files(df=df)"
      ],
      "metadata": {
        "id": "rGjTp09ZNC4u"
      },
      "execution_count": null,
      "outputs": []
    },
    {
      "cell_type": "code",
      "source": [
        "from keras.applications.vgg19 import VGG19\n",
        "from keras.applications.vgg19 import preprocess_input\n",
        "from keras import Sequential\n",
        "from keras.layers import Flatten, Dense\n",
        "from keras.preprocessing.image import ImageDataGenerator"
      ],
      "metadata": {
        "id": "-UO1OhOnWpPP"
      },
      "execution_count": null,
      "outputs": []
    },
    {
      "cell_type": "code",
      "source": [
        "#Load train and test set\n",
        "train_dir = '/content/train_data'"
      ],
      "metadata": {
        "id": "4Buks45eWq2p"
      },
      "execution_count": null,
      "outputs": []
    },
    {
      "cell_type": "code",
      "source": [
        "train_datagen = ImageDataGenerator(rescale=1.0/255, horizontal_flip=True, zoom_range=0.2,shear_range=0.2)\n",
        "train_generator = train_datagen.flow_from_directory(\n",
        "    directory=train_dir,\n",
        "    target_size=(128,128),\n",
        "    class_mode='categorical',\n",
        "    batch_size=32\n",
        ")"
      ],
      "metadata": {
        "colab": {
          "base_uri": "https://localhost:8080/"
        },
        "id": "BvjWCCljjMZN",
        "outputId": "d796daa7-821a-492e-a1b0-d31d9960c7b6"
      },
      "execution_count": null,
      "outputs": [
        {
          "output_type": "stream",
          "name": "stdout",
          "text": [
            "Found 1000 images belonging to 2 classes.\n"
          ]
        }
      ]
    },
    {
      "cell_type": "code",
      "source": [
        "import mlflow \n",
        "\n",
        "mlflow.keras.autolog()"
      ],
      "metadata": {
        "colab": {
          "base_uri": "https://localhost:8080/"
        },
        "id": "CFspDfGz4Ttt",
        "outputId": "9b0db4d2-bfe4-4c18-8a30-adb91fb933ec"
      },
      "execution_count": null,
      "outputs": [
        {
          "output_type": "stream",
          "name": "stderr",
          "text": [
            "/usr/local/lib/python3.7/dist-packages/mlflow/utils/autologging_utils/__init__.py:416: FutureWarning: Autologging support for keras >= 2.6.0 has been deprecated and will be removed in a future MLflow release. Use `mlflow.tensorflow.autolog()` instead.\n",
            "  return _autolog(*args, **kwargs)\n"
          ]
        }
      ]
    },
    {
      "cell_type": "code",
      "source": [
        "vgg19 = VGG19(weights='imagenet',include_top=False,input_shape=(128,128,3))\n",
        "\n",
        "for layer in vgg19.layers:\n",
        "    layer.trainable = False\n",
        "    \n",
        "model = Sequential()\n",
        "model.add(vgg19)\n",
        "model.add(Flatten())\n",
        "model.add(Dense(2,activation='sigmoid'))\n",
        "model.summary()"
      ],
      "metadata": {
        "colab": {
          "base_uri": "https://localhost:8080/"
        },
        "id": "wM9Uy3dijOGq",
        "outputId": "6478a82c-4213-4b46-aa9d-4f07a0f6c11d"
      },
      "execution_count": null,
      "outputs": [
        {
          "output_type": "stream",
          "name": "stdout",
          "text": [
            "Model: \"sequential_1\"\n",
            "_________________________________________________________________\n",
            " Layer (type)                Output Shape              Param #   \n",
            "=================================================================\n",
            " vgg19 (Functional)          (None, 4, 4, 512)         20024384  \n",
            "                                                                 \n",
            " flatten_1 (Flatten)         (None, 8192)              0         \n",
            "                                                                 \n",
            " dense_1 (Dense)             (None, 2)                 16386     \n",
            "                                                                 \n",
            "=================================================================\n",
            "Total params: 20,040,770\n",
            "Trainable params: 16,386\n",
            "Non-trainable params: 20,024,384\n",
            "_________________________________________________________________\n"
          ]
        }
      ]
    },
    {
      "cell_type": "code",
      "source": [
        "model.compile(optimizer=\"adam\",loss=\"categorical_crossentropy\",metrics =\"accuracy\")"
      ],
      "metadata": {
        "id": "mJrwX0VejOAJ"
      },
      "execution_count": null,
      "outputs": []
    },
    {
      "cell_type": "code",
      "source": [
        "history = model.fit_generator(generator=train_generator,\n",
        "                              steps_per_epoch=len(train_generator)//32,\n",
        "                              epochs=20)"
      ],
      "metadata": {
        "colab": {
          "base_uri": "https://localhost:8080/"
        },
        "id": "rVe_nOkMjN9E",
        "outputId": "0297bae3-0ff6-4987-bc95-6def149648c3"
      },
      "execution_count": null,
      "outputs": [
        {
          "output_type": "stream",
          "name": "stderr",
          "text": [
            "/usr/local/lib/python3.7/dist-packages/ipykernel_launcher.py:3: UserWarning: `Model.fit_generator` is deprecated and will be removed in a future version. Please use `Model.fit`, which supports generators.\n",
            "  This is separate from the ipykernel package so we can avoid doing imports until\n",
            "2022/07/04 18:04:29 INFO mlflow.utils.autologging_utils: Created MLflow autologging run with ID '634d260a11aa4e748d3f6aabdedb892f', which will track hyperparameters, performance metrics, model artifacts, and lineage information for the current keras workflow\n"
          ]
        },
        {
          "output_type": "stream",
          "name": "stdout",
          "text": [
            "Epoch 1/20\n",
            "1/1 [==============================] - 12s 12s/step - loss: 0.6706 - accuracy: 0.5625\n",
            "Epoch 2/20\n",
            "1/1 [==============================] - 0s 431ms/step - loss: 1.0915 - accuracy: 0.4375\n",
            "Epoch 3/20\n",
            "1/1 [==============================] - 1s 941ms/step - loss: 0.5957 - accuracy: 0.6250\n",
            "Epoch 4/20\n",
            "1/1 [==============================] - 0s 376ms/step - loss: 0.4919 - accuracy: 0.7812\n",
            "Epoch 5/20\n",
            "1/1 [==============================] - 0s 398ms/step - loss: 0.3825 - accuracy: 0.8750\n",
            "Epoch 6/20\n",
            "1/1 [==============================] - 0s 389ms/step - loss: 0.4954 - accuracy: 0.7188\n",
            "Epoch 7/20\n",
            "1/1 [==============================] - 0s 399ms/step - loss: 0.4545 - accuracy: 0.8438\n",
            "Epoch 8/20\n",
            "1/1 [==============================] - 0s 425ms/step - loss: 0.2279 - accuracy: 1.0000\n",
            "Epoch 9/20\n",
            "1/1 [==============================] - 0s 236ms/step - loss: 0.2531 - accuracy: 0.9062\n",
            "Epoch 10/20\n",
            "1/1 [==============================] - 0s 246ms/step - loss: 0.2673 - accuracy: 0.9062\n",
            "Epoch 11/20\n",
            "1/1 [==============================] - 0s 448ms/step - loss: 0.3619 - accuracy: 0.8750\n",
            "Epoch 12/20\n",
            "1/1 [==============================] - 0s 232ms/step - loss: 0.1603 - accuracy: 1.0000\n",
            "Epoch 13/20\n",
            "1/1 [==============================] - 0s 238ms/step - loss: 0.2678 - accuracy: 0.8750\n",
            "Epoch 14/20\n",
            "1/1 [==============================] - 0s 241ms/step - loss: 0.2599 - accuracy: 0.8438\n",
            "Epoch 15/20\n",
            "1/1 [==============================] - 0s 252ms/step - loss: 0.2505 - accuracy: 0.9062\n",
            "Epoch 16/20\n",
            "1/1 [==============================] - 0s 464ms/step - loss: 0.2892 - accuracy: 0.9062\n",
            "Epoch 17/20\n",
            "1/1 [==============================] - 0s 246ms/step - loss: 0.1756 - accuracy: 1.0000\n",
            "Epoch 18/20\n",
            "1/1 [==============================] - 0s 236ms/step - loss: 0.1184 - accuracy: 1.0000\n",
            "Epoch 19/20\n",
            "1/1 [==============================] - 0s 243ms/step - loss: 0.1886 - accuracy: 0.9375\n",
            "Epoch 20/20\n",
            "1/1 [==============================] - 0s 240ms/step - loss: 0.1562 - accuracy: 0.9375\n",
            "INFO:tensorflow:Assets written to: /tmp/tmpt7pzykdu/model/data/model/assets\n"
          ]
        },
        {
          "output_type": "stream",
          "name": "stderr",
          "text": [
            "2022/07/04 18:05:04 WARNING mlflow.utils.requirements_utils: Found tensorflow version (2.8.2+zzzcolab20220527125636) contains a local version label (+zzzcolab20220527125636). MLflow logged a pip requirement for this package as 'tensorflow==2.8.2' without the local version label to make it installable from PyPI. To specify pip requirements containing local version labels, please use `conda_env` or `pip_requirements`.\n",
            "2022/07/04 18:05:10 WARNING mlflow.utils.environment: Encountered an unexpected error while inferring pip requirements (model URI: /tmp/tmpt7pzykdu/model, flavor: keras), fall back to return ['tensorflow==2.8.2', 'keras==2.8.0']. Set logging level to DEBUG to see the full traceback.\n"
          ]
        }
      ]
    },
    {
      "cell_type": "code",
      "source": [
        "import mlflow\n",
        "\n",
        "mlflow.keras.log_model(model, \"tensorflow-model\")"
      ],
      "metadata": {
        "colab": {
          "base_uri": "https://localhost:8080/"
        },
        "id": "EDpsSMkTQEEf",
        "outputId": "17bbb09e-fc77-42ad-e960-a63d71bb8ddc"
      },
      "execution_count": null,
      "outputs": [
        {
          "output_type": "stream",
          "name": "stdout",
          "text": [
            "INFO:tensorflow:Assets written to: /tmp/tmpd6zmr_4j/model/data/model/assets\n"
          ]
        },
        {
          "output_type": "stream",
          "name": "stderr",
          "text": [
            "2022/07/04 18:05:27 WARNING mlflow.utils.requirements_utils: Found tensorflow version (2.8.2+zzzcolab20220527125636) contains a local version label (+zzzcolab20220527125636). MLflow logged a pip requirement for this package as 'tensorflow==2.8.2' without the local version label to make it installable from PyPI. To specify pip requirements containing local version labels, please use `conda_env` or `pip_requirements`.\n",
            "2022/07/04 18:05:33 WARNING mlflow.utils.requirements_utils: Found tensorflow version (2.8.2+zzzcolab20220527125636) contains a local version label (+zzzcolab20220527125636). MLflow logged a pip requirement for this package as 'tensorflow==2.8.2' without the local version label to make it installable from PyPI. To specify pip requirements containing local version labels, please use `conda_env` or `pip_requirements`.\n",
            "2022/07/04 18:05:33 WARNING mlflow.utils.requirements_utils: Found jaxlib version (0.3.7+cuda11.cudnn805) contains a local version label (+cuda11.cudnn805). MLflow logged a pip requirement for this package as 'jaxlib==0.3.7' without the local version label to make it installable from PyPI. To specify pip requirements containing local version labels, please use `conda_env` or `pip_requirements`.\n"
          ]
        },
        {
          "output_type": "execute_result",
          "data": {
            "text/plain": [
              "ModelInfo(artifact_path='tensorflow-model', flavors={'keras': {'keras_module': 'tensorflow.keras', 'keras_version': '2.8.0', 'save_format': 'tf', 'data': 'data', 'code': None}, 'python_function': {'loader_module': 'mlflow.keras', 'python_version': '3.7.13', 'data': 'data', 'env': 'conda.yaml'}}, model_uri='runs:/8c76d321faa24dfd9d3c1d9a3e7d0d4d/tensorflow-model', model_uuid='a42e5a83ba4b43468175bfc7ecf58162', run_id='8c76d321faa24dfd9d3c1d9a3e7d0d4d', saved_input_example_info=None, signature_dict=None, utc_time_created='2022-07-04 18:05:25.253667', mlflow_version='1.27.0')"
            ]
          },
          "metadata": {},
          "execution_count": 26
        }
      ]
    }
  ]
}