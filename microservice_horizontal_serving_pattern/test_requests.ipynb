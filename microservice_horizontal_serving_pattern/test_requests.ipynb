{
  "nbformat": 4,
  "nbformat_minor": 0,
  "metadata": {
    "colab": {
      "name": "test_requests.ipynb",
      "provenance": [],
      "collapsed_sections": []
    },
    "kernelspec": {
      "name": "python3",
      "display_name": "Python 3"
    },
    "language_info": {
      "name": "python"
    }
  },
  "cells": [
    {
      "cell_type": "code",
      "source": [
        "!curl -X 'POST' \\\n",
        "  'http://15.164.49.19:8001/api/predict' \\\n",
        "  -H 'accept: application/json' \\\n",
        "  -H 'Content-Type: multipart/form-data' \\\n",
        "  -F 'file=@/content/maksssksksss244.png'"
      ],
      "metadata": {
        "colab": {
          "base_uri": "https://localhost:8080/"
        },
        "id": "bN9Qxoc8QxYC",
        "outputId": "61e6a6a3-b4c6-42b6-83da-1eb34922eb74"
      },
      "execution_count": 23,
      "outputs": [
        {
          "output_type": "stream",
          "name": "stdout",
          "text": [
            "{\"is_mask\":[\"NO MASK\",\"MASK\",\"NO MASK\"],\"bbox\":[[302,25,398,121],[168,58,230,120],[48,98,102,152]]}"
          ]
        }
      ]
    },
    {
      "cell_type": "code",
      "source": [
        "import requests\n",
        "\n",
        "headers = {\n",
        "    'accept': 'application/json',\n",
        "}\n",
        "\n",
        "files = {\n",
        "    'file': open('/content/maksssksksss244.png', 'rb'),\n",
        "}\n",
        "\n",
        "response = requests.post('http://15.164.49.19:8001/api/predict', headers=headers, files=files)"
      ],
      "metadata": {
        "id": "svrGS8VRkUkj"
      },
      "execution_count": 36,
      "outputs": []
    },
    {
      "cell_type": "code",
      "source": [
        "response.json()"
      ],
      "metadata": {
        "colab": {
          "base_uri": "https://localhost:8080/"
        },
        "id": "gD3b-cDtaKcV",
        "outputId": "cad60331-1f97-45ea-929c-04b0f9b732e4"
      },
      "execution_count": 37,
      "outputs": [
        {
          "output_type": "execute_result",
          "data": {
            "text/plain": [
              "{'bbox': [[302, 25, 398, 121], [168, 58, 230, 120], [48, 98, 102, 152]],\n",
              " 'is_mask': ['NO MASK', 'MASK', 'NO MASK']}"
            ]
          },
          "metadata": {},
          "execution_count": 37
        }
      ]
    },
    {
      "cell_type": "code",
      "source": [
        ""
      ],
      "metadata": {
        "id": "j5smV1pGkXCg"
      },
      "execution_count": null,
      "outputs": []
    }
  ]
}